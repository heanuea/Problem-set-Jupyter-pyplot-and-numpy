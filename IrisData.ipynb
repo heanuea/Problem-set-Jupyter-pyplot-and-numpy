# Iris Data Set 

This is the problem sheet all the problems are in my [readme]https://github.com/heanuea/Problem-set-Jupyter-pyplot-and-numpy/blob/master/README.md

## **_01.Numpy Array from a csv file_**

import numpy as np
# genfromtxt is a numpy method and delimiter is a converts strings from csv 
csv = np.genfromtxt('data.csv',delimiter=",")
print(csv)
