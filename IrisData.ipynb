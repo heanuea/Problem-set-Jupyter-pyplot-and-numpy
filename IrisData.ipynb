{
 "cells": [
  {
   "cell_type": "markdown",
   "metadata": {},
   "source": [
    "### **_01.Numpy Array from a csv file_**"
   ]
  },
  {
   "cell_type": "code",
   "execution_count": 29,
   "metadata": {},
   "outputs": [
    {
     "name": "stdout",
     "output_type": "stream",
     "text": [
      "[[ 5.1  3.5  1.4  0.2  nan]\n",
      " [ 4.9  3.   1.4  0.2  nan]\n",
      " [ 4.7  3.2  1.3  0.2  nan]\n",
      " [ 4.6  3.1  1.5  0.2  nan]\n",
      " [ 5.   3.6  1.4  0.2  nan]\n",
      " [ 5.4  3.9  1.7  0.4  nan]\n",
      " [ 4.6  3.4  1.4  0.3  nan]\n",
      " [ 5.   3.4  1.5  0.2  nan]\n",
      " [ 4.4  2.9  1.4  0.2  nan]\n",
      " [ 4.9  3.1  1.5  0.1  nan]\n",
      " [ 5.4  3.7  1.5  0.2  nan]\n",
      " [ 4.8  3.4  1.6  0.2  nan]\n",
      " [ 4.8  3.   1.4  0.1  nan]\n",
      " [ 4.3  3.   1.1  0.1  nan]\n",
      " [ 5.8  4.   1.2  0.2  nan]\n",
      " [ 5.7  4.4  1.5  0.4  nan]\n",
      " [ 5.4  3.9  1.3  0.4  nan]\n",
      " [ 5.1  3.5  1.4  0.3  nan]\n",
      " [ 5.7  3.8  1.7  0.3  nan]\n",
      " [ 5.1  3.8  1.5  0.3  nan]\n",
      " [ 5.4  3.4  1.7  0.2  nan]\n",
      " [ 5.1  3.7  1.5  0.4  nan]\n",
      " [ 4.6  3.6  1.   0.2  nan]\n",
      " [ 5.1  3.3  1.7  0.5  nan]\n",
      " [ 4.8  3.4  1.9  0.2  nan]\n",
      " [ 5.   3.   1.6  0.2  nan]\n",
      " [ 5.   3.4  1.6  0.4  nan]\n",
      " [ 5.2  3.5  1.5  0.2  nan]\n",
      " [ 5.2  3.4  1.4  0.2  nan]\n",
      " [ 4.7  3.2  1.6  0.2  nan]\n",
      " [ 4.8  3.1  1.6  0.2  nan]\n",
      " [ 5.4  3.4  1.5  0.4  nan]\n",
      " [ 5.2  4.1  1.5  0.1  nan]\n",
      " [ 5.5  4.2  1.4  0.2  nan]\n",
      " [ 4.9  3.1  1.5  0.1  nan]\n",
      " [ 5.   3.2  1.2  0.2  nan]\n",
      " [ 5.5  3.5  1.3  0.2  nan]\n",
      " [ 4.9  3.1  1.5  0.1  nan]\n",
      " [ 4.4  3.   1.3  0.2  nan]\n",
      " [ 5.1  3.4  1.5  0.2  nan]\n",
      " [ 5.   3.5  1.3  0.3  nan]\n",
      " [ 4.5  2.3  1.3  0.3  nan]\n",
      " [ 4.4  3.2  1.3  0.2  nan]\n",
      " [ 5.   3.5  1.6  0.6  nan]\n",
      " [ 5.1  3.8  1.9  0.4  nan]\n",
      " [ 4.8  3.   1.4  0.3  nan]\n",
      " [ 5.1  3.8  1.6  0.2  nan]\n",
      " [ 4.6  3.2  1.4  0.2  nan]\n",
      " [ 5.3  3.7  1.5  0.2  nan]\n",
      " [ 5.   3.3  1.4  0.2  nan]\n",
      " [ 7.   3.2  4.7  1.4  nan]\n",
      " [ 6.4  3.2  4.5  1.5  nan]\n",
      " [ 6.9  3.1  4.9  1.5  nan]\n",
      " [ 5.5  2.3  4.   1.3  nan]\n",
      " [ 6.5  2.8  4.6  1.5  nan]\n",
      " [ 5.7  2.8  4.5  1.3  nan]\n",
      " [ 6.3  3.3  4.7  1.6  nan]\n",
      " [ 4.9  2.4  3.3  1.   nan]\n",
      " [ 6.6  2.9  4.6  1.3  nan]\n",
      " [ 5.2  2.7  3.9  1.4  nan]\n",
      " [ 5.   2.   3.5  1.   nan]\n",
      " [ 5.9  3.   4.2  1.5  nan]\n",
      " [ 6.   2.2  4.   1.   nan]\n",
      " [ 6.1  2.9  4.7  1.4  nan]\n",
      " [ 5.6  2.9  3.6  1.3  nan]\n",
      " [ 6.7  3.1  4.4  1.4  nan]\n",
      " [ 5.6  3.   4.5  1.5  nan]\n",
      " [ 5.8  2.7  4.1  1.   nan]\n",
      " [ 6.2  2.2  4.5  1.5  nan]\n",
      " [ 5.6  2.5  3.9  1.1  nan]\n",
      " [ 5.9  3.2  4.8  1.8  nan]\n",
      " [ 6.1  2.8  4.   1.3  nan]\n",
      " [ 6.3  2.5  4.9  1.5  nan]\n",
      " [ 6.1  2.8  4.7  1.2  nan]\n",
      " [ 6.4  2.9  4.3  1.3  nan]\n",
      " [ 6.6  3.   4.4  1.4  nan]\n",
      " [ 6.8  2.8  4.8  1.4  nan]\n",
      " [ 6.7  3.   5.   1.7  nan]\n",
      " [ 6.   2.9  4.5  1.5  nan]\n",
      " [ 5.7  2.6  3.5  1.   nan]\n",
      " [ 5.5  2.4  3.8  1.1  nan]\n",
      " [ 5.5  2.4  3.7  1.   nan]\n",
      " [ 5.8  2.7  3.9  1.2  nan]\n",
      " [ 6.   2.7  5.1  1.6  nan]\n",
      " [ 5.4  3.   4.5  1.5  nan]\n",
      " [ 6.   3.4  4.5  1.6  nan]\n",
      " [ 6.7  3.1  4.7  1.5  nan]\n",
      " [ 6.3  2.3  4.4  1.3  nan]\n",
      " [ 5.6  3.   4.1  1.3  nan]\n",
      " [ 5.5  2.5  4.   1.3  nan]\n",
      " [ 5.5  2.6  4.4  1.2  nan]\n",
      " [ 6.1  3.   4.6  1.4  nan]\n",
      " [ 5.8  2.6  4.   1.2  nan]\n",
      " [ 5.   2.3  3.3  1.   nan]\n",
      " [ 5.6  2.7  4.2  1.3  nan]\n",
      " [ 5.7  3.   4.2  1.2  nan]\n",
      " [ 5.7  2.9  4.2  1.3  nan]\n",
      " [ 6.2  2.9  4.3  1.3  nan]\n",
      " [ 5.1  2.5  3.   1.1  nan]\n",
      " [ 5.7  2.8  4.1  1.3  nan]\n",
      " [ 6.3  3.3  6.   2.5  nan]\n",
      " [ 5.8  2.7  5.1  1.9  nan]\n",
      " [ 7.1  3.   5.9  2.1  nan]\n",
      " [ 6.3  2.9  5.6  1.8  nan]\n",
      " [ 6.5  3.   5.8  2.2  nan]\n",
      " [ 7.6  3.   6.6  2.1  nan]\n",
      " [ 4.9  2.5  4.5  1.7  nan]\n",
      " [ 7.3  2.9  6.3  1.8  nan]\n",
      " [ 6.7  2.5  5.8  1.8  nan]\n",
      " [ 7.2  3.6  6.1  2.5  nan]\n",
      " [ 6.5  3.2  5.1  2.   nan]\n",
      " [ 6.4  2.7  5.3  1.9  nan]\n",
      " [ 6.8  3.   5.5  2.1  nan]\n",
      " [ 5.7  2.5  5.   2.   nan]\n",
      " [ 5.8  2.8  5.1  2.4  nan]\n",
      " [ 6.4  3.2  5.3  2.3  nan]\n",
      " [ 6.5  3.   5.5  1.8  nan]\n",
      " [ 7.7  3.8  6.7  2.2  nan]\n",
      " [ 7.7  2.6  6.9  2.3  nan]\n",
      " [ 6.   2.2  5.   1.5  nan]\n",
      " [ 6.9  3.2  5.7  2.3  nan]\n",
      " [ 5.6  2.8  4.9  2.   nan]\n",
      " [ 7.7  2.8  6.7  2.   nan]\n",
      " [ 6.3  2.7  4.9  1.8  nan]\n",
      " [ 6.7  3.3  5.7  2.1  nan]\n",
      " [ 7.2  3.2  6.   1.8  nan]\n",
      " [ 6.2  2.8  4.8  1.8  nan]\n",
      " [ 6.1  3.   4.9  1.8  nan]\n",
      " [ 6.4  2.8  5.6  2.1  nan]\n",
      " [ 7.2  3.   5.8  1.6  nan]\n",
      " [ 7.4  2.8  6.1  1.9  nan]\n",
      " [ 7.9  3.8  6.4  2.   nan]\n",
      " [ 6.4  2.8  5.6  2.2  nan]\n",
      " [ 6.3  2.8  5.1  1.5  nan]\n",
      " [ 6.1  2.6  5.6  1.4  nan]\n",
      " [ 7.7  3.   6.1  2.3  nan]\n",
      " [ 6.3  3.4  5.6  2.4  nan]\n",
      " [ 6.4  3.1  5.5  1.8  nan]\n",
      " [ 6.   3.   4.8  1.8  nan]\n",
      " [ 6.9  3.1  5.4  2.1  nan]\n",
      " [ 6.7  3.1  5.6  2.4  nan]\n",
      " [ 6.9  3.1  5.1  2.3  nan]\n",
      " [ 5.8  2.7  5.1  1.9  nan]\n",
      " [ 6.8  3.2  5.9  2.3  nan]\n",
      " [ 6.7  3.3  5.7  2.5  nan]\n",
      " [ 6.7  3.   5.2  2.3  nan]\n",
      " [ 6.3  2.5  5.   1.9  nan]\n",
      " [ 6.5  3.   5.2  2.   nan]\n",
      " [ 6.2  3.4  5.4  2.3  nan]\n",
      " [ 5.9  3.   5.1  1.8  nan]]\n"
     ]
    }
   ],
   "source": [
    "import numpy as np\n",
    "# genfromtxt is a numpy method and delimiter is a converts strings from csv \n",
    "csv = np.genfromtxt('data.csv',delimiter=\",\")\n",
    "print(csv)\n"
   ]
  },
  {
   "cell_type": "markdown",
   "metadata": {
    "collapsed": true
   },
   "source": [
    "###  **_2. Write a note about the data set_**\n",
    "To download this data into an Excel spreadsheet, click on [Fisher's Iris](https://raw.githubusercontent.com/uiuc-cse/data-fa14/gh-pages/data/iris.csv)\n",
    "\n",
    "Introduction\n",
    "From the Wikipedia article “Iris flower data set” (https://en.wikipedia.org/wiki/Iris_flower_data_set)\n",
    "\n",
    "The Iris flower data set or Fisher’s Iris data set is a multivariate data set introduced by Ronald Fisher in his 1936 paper ``The use of multiple measurements in taxonomic problems as an example of linear discriminant analysis’’. It is sometimes called Anderson’s Iris data set because Edgar Anderson collected the data to quantify the variation of Iris flowers.\n",
    "The data set consists of 50 samples from each of three species of Iris (Iris setosa, Iris virginica and Iris versicolor). Four features were measured from each sample: the length and the width of the sepals and petals, in centimetres."
   ]
  },
  {
   "cell_type": "markdown",
   "metadata": {},
   "source": [
    "### **_3.Loading data_**"
   ]
  },
  {
   "cell_type": "code",
   "execution_count": 23,
   "metadata": {},
   "outputs": [],
   "source": [
    "# Load data\n",
    "OriginalData = np.loadtxt(\"data.csv\",str, delimiter=\",\", skiprows=1, unpack=True)\n",
    "\n",
    "data = OriginalData.transpose()\n",
    "# columns\n",
    "sepal_length = sepal_width = petal_length = petal_width = species =[]\n",
    "sepal_length , sepal_width , petal_length , petal_width , species = OriginalData"
   ]
  },
  {
   "cell_type": "markdown",
   "metadata": {},
   "source": [
    "### **_3.1Creating a simple plot_**"
   ]
  },
  {
   "cell_type": "code",
   "execution_count": 20,
   "metadata": {},
   "outputs": [
    {
     "data": {
      "image/png": "[encoded data removed]",
      "text/plain": [
       "<matplotlib.figure.Figure at 0x2d79747f780>"
      ]
     },
     "metadata": {},
     "output_type": "display_data"
    }
   ],
   "source": [
    "# Create the plot.\n",
    "pl.scatter(sepal_length, sepal_width, c='pink')\n",
    "\n",
    "# Set properties.\n",
    "pl.xlabel('sepal length')\n",
    "pl.ylabel('sepal width')\n",
    "\n",
    "# Display plots .\n",
    "pl.title('TITLE')\n",
    "pl.show()"
   ]
  },
  {
   "cell_type": "markdown",
   "metadata": {},
   "source": [
    "### **_4.Creating a Larger plot_**"
   ]
  },
  {
   "cell_type": "code",
   "execution_count": null,
   "metadata": {
    "collapsed": true
   },
   "outputs": [],
   "source": []
  }
 ],
 "metadata": {
  "kernelspec": {
   "display_name": "Python 3",
   "language": "python",
   "name": "python3"
  },
  "language_info": {
   "codemirror_mode": {
    "name": "ipython",
    "version": 3
   },
   "file_extension": ".py",
   "mimetype": "text/x-python",
   "name": "python",
   "nbconvert_exporter": "python",
   "pygments_lexer": "ipython3",
   "version": "3.6.1"
  }
 },
 "nbformat": 4,
 "nbformat_minor": 2
}
